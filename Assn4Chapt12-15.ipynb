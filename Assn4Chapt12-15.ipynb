{
 "metadata": {
  "name": "Assn4Chapt12-15"
 },
 "nbformat": 3,
 "worksheets": [
  {
   "cells": [
    {
     "cell_type": "code",
     "collapsed": false,
     "input": [
      "numbers = (1,2,3)",
      "def sumall(numbers):",
      "    x = 0",
      "    for i in numbers:",
      "        x = x + i",
      "    print x",
      "sumall(numbers)"
     ],
     "language": "python",
     "outputs": [
      {
       "output_type": "stream",
       "stream": "stdout",
       "text": [
        "6"
       ]
      }
     ],
     "prompt_number": 1
    },
    {
     "cell_type": "code",
     "collapsed": true,
     "input": [
      "def sumall(*t):",
      "    x = 0",
      "    for i in range(len(t)):",
      "        x += t[i]",
      "    return x"
     ],
     "language": "python",
     "outputs": [],
     "prompt_number": 2
    },
    {
     "cell_type": "code",
     "collapsed": true,
     "input": [
      "def sumall(*args):",
      "        t = list(args)",
      "        return sum(t)"
     ],
     "language": "python",
     "outputs": [],
     "prompt_number": 3
    },
    {
     "cell_type": "code",
     "collapsed": false,
     "input": [
      "sumall(numbers)"
     ],
     "language": "python",
     "outputs": [
      {
       "output_type": "pyout",
       "prompt_number": 4,
       "text": [
        "6"
       ]
      }
     ],
     "prompt_number": 4
    },
    {
     "cell_type": "code",
     "collapsed": true,
     "input": [
      "import random",
      " ",
      "def sort_by_length(words):",
      "        t = []",
      "        for word in words:",
      "                t.append((len(word),word))",
      "        t.sort(reverse=True)",
      "        res = []",
      "        for length, word in t:",
      "                res.append(word)",
      "        i=0",
      "        final = []",
      "        while i <= len(res)-2:",
      "                if len(res[i]) == len(res[i+1]):",
      "                        y_list = [res[i], res[i+1]]",
      "                        random.shuffle(y_list)",
      "                        final = final + y_list",
      "                        i += 2",
      "                else:",
      "                        final.append(res[i])",
      "                        i += 1",
      "        if i == len(res)-1:",
      "                final.append(res[i])",
      "        return final"
     ],
     "language": "python",
     "outputs": [],
     "prompt_number": 5
    },
    {
     "cell_type": "code",
     "collapsed": false,
     "input": [
      "sort_by_length('mississippi')"
     ],
     "language": "python",
     "outputs": [
      {
       "output_type": "pyout",
       "prompt_number": 7,
       "text": [
        "['s', 's', 's', 's', 'p', 'p', 'i', 'm', 'i', 'i', 'i']"
       ]
      }
     ],
     "prompt_number": 7
    },
    {
     "cell_type": "code",
     "collapsed": true,
     "input": [
      "import string",
      " ",
      "def most_frequent(s):",
      "        d = dict()",
      "        inv = dict()",
      "        for char in s:",
      "                if char in string.ascii_letters:",
      "                        letter = char.lower()           ",
      "                        d[letter] = d.get(letter, 0) + 1",
      " ",
      "        for letter, freq in d.items():",
      "                inv.setdefault(freq, []).append(letter)",
      " ",
      "        for freq in sorted(inv, reverse=True):",
      "                print('{:.2%}:'.format(freq/(sum(list(inv)*len(inv[freq])))), ', '.join(inv[freq]))"
     ],
     "language": "python",
     "outputs": [],
     "prompt_number": 8
    },
    {
     "cell_type": "code",
     "collapsed": false,
     "input": [
      "most_frequent('mississippi')"
     ],
     "language": "python",
     "outputs": [
      {
       "output_type": "stream",
       "stream": "stdout",
       "text": [
        "('0.00%:', 'i, s')",
        "('0.00%:', 'p')",
        "('0.00%:', 'm')"
       ]
      }
     ],
     "prompt_number": 9
    },
    {
     "cell_type": "code",
     "collapsed": false,
     "input": [
      "import shelve",
      " ",
      "def dict_of_signatures_and_words(filename='words.txt'):",
      "        d = dict()",
      "        for line in open(filename):",
      "                word = line.lower().strip()",
      "                signature = ''.join(sorted(word))",
      "                d.setdefault(signature, []).append(word)",
      "        return d",
      " ",
      "def db_of_anagrams(filename='anagrams', d=dict_of_signatures_and_words()):",
      "        db = shelve.open(filename)",
      "        for key, values in d.items():",
      "                if len(values)>1:",
      "                        for index, value in enumerate(values):",
      "                                db[value]=values[:index]+values[index+1:]",
      "        db.close()",
      " ",
      "def print_contents_of_db(filename='anagrams'):",
      "        db = shelve.open(filename, flag='r')",
      "        for key in sorted(db):",
      "                print(key.rjust(12), '\\t<==>\\t', ', '.join(db[key]))",
      "        db.close()",
      " ",
      "db_of_anagrams()",
      "print_contents_of_db()"
     ],
     "language": "python",
     "outputs": [
      {
       "ename": "IOError",
       "evalue": "[Errno 2] No such file or directory: 'words.txt'",
       "output_type": "pyerr",
       "traceback": [
        "\u001b[0;31m---------------------------------------------------------------------------\u001b[0m\n\u001b[0;31mIOError\u001b[0m                                   Traceback (most recent call last)",
        "\u001b[0;32m/Users/johnsekerak/PHYS200/<ipython-input-10-8d0fc455c8d9>\u001b[0m in \u001b[0;36m<module>\u001b[0;34m()\u001b[0m\n\u001b[1;32m      9\u001b[0m         \u001b[0;32mreturn\u001b[0m \u001b[0md\u001b[0m\u001b[0;34m\u001b[0m\u001b[0m\n\u001b[1;32m     10\u001b[0m \u001b[0;34m\u001b[0m\u001b[0m\n\u001b[0;32m---> 11\u001b[0;31m \u001b[0;32mdef\u001b[0m \u001b[0mdb_of_anagrams\u001b[0m\u001b[0;34m(\u001b[0m\u001b[0mfilename\u001b[0m\u001b[0;34m=\u001b[0m\u001b[0;34m'anagrams'\u001b[0m\u001b[0;34m,\u001b[0m \u001b[0md\u001b[0m\u001b[0;34m=\u001b[0m\u001b[0mdict_of_signatures_and_words\u001b[0m\u001b[0;34m(\u001b[0m\u001b[0;34m)\u001b[0m\u001b[0;34m)\u001b[0m\u001b[0;34m:\u001b[0m\u001b[0;34m\u001b[0m\u001b[0m\n\u001b[0m\u001b[1;32m     12\u001b[0m         \u001b[0mdb\u001b[0m \u001b[0;34m=\u001b[0m \u001b[0mshelve\u001b[0m\u001b[0;34m.\u001b[0m\u001b[0mopen\u001b[0m\u001b[0;34m(\u001b[0m\u001b[0mfilename\u001b[0m\u001b[0;34m)\u001b[0m\u001b[0;34m\u001b[0m\u001b[0m\n\u001b[1;32m     13\u001b[0m         \u001b[0;32mfor\u001b[0m \u001b[0mkey\u001b[0m\u001b[0;34m,\u001b[0m \u001b[0mvalues\u001b[0m \u001b[0;32min\u001b[0m \u001b[0md\u001b[0m\u001b[0;34m.\u001b[0m\u001b[0mitems\u001b[0m\u001b[0;34m(\u001b[0m\u001b[0;34m)\u001b[0m\u001b[0;34m:\u001b[0m\u001b[0;34m\u001b[0m\u001b[0m\n",
        "\u001b[0;32m/Users/johnsekerak/PHYS200/<ipython-input-10-8d0fc455c8d9>\u001b[0m in \u001b[0;36mdict_of_signatures_and_words\u001b[0;34m(filename)\u001b[0m\n\u001b[1;32m      3\u001b[0m \u001b[0;32mdef\u001b[0m \u001b[0mdict_of_signatures_and_words\u001b[0m\u001b[0;34m(\u001b[0m\u001b[0mfilename\u001b[0m\u001b[0;34m=\u001b[0m\u001b[0;34m'words.txt'\u001b[0m\u001b[0;34m)\u001b[0m\u001b[0;34m:\u001b[0m\u001b[0;34m\u001b[0m\u001b[0m\n\u001b[1;32m      4\u001b[0m         \u001b[0md\u001b[0m \u001b[0;34m=\u001b[0m \u001b[0mdict\u001b[0m\u001b[0;34m(\u001b[0m\u001b[0;34m)\u001b[0m\u001b[0;34m\u001b[0m\u001b[0m\n\u001b[0;32m----> 5\u001b[0;31m         \u001b[0;32mfor\u001b[0m \u001b[0mline\u001b[0m \u001b[0;32min\u001b[0m \u001b[0mopen\u001b[0m\u001b[0;34m(\u001b[0m\u001b[0mfilename\u001b[0m\u001b[0;34m)\u001b[0m\u001b[0;34m:\u001b[0m\u001b[0;34m\u001b[0m\u001b[0m\n\u001b[0m\u001b[1;32m      6\u001b[0m                 \u001b[0mword\u001b[0m \u001b[0;34m=\u001b[0m \u001b[0mline\u001b[0m\u001b[0;34m.\u001b[0m\u001b[0mlower\u001b[0m\u001b[0;34m(\u001b[0m\u001b[0;34m)\u001b[0m\u001b[0;34m.\u001b[0m\u001b[0mstrip\u001b[0m\u001b[0;34m(\u001b[0m\u001b[0;34m)\u001b[0m\u001b[0;34m\u001b[0m\u001b[0m\n\u001b[1;32m      7\u001b[0m                 \u001b[0msignature\u001b[0m \u001b[0;34m=\u001b[0m \u001b[0;34m''\u001b[0m\u001b[0;34m.\u001b[0m\u001b[0mjoin\u001b[0m\u001b[0;34m(\u001b[0m\u001b[0msorted\u001b[0m\u001b[0;34m(\u001b[0m\u001b[0mword\u001b[0m\u001b[0;34m)\u001b[0m\u001b[0;34m)\u001b[0m\u001b[0;34m\u001b[0m\u001b[0m\n",
        "\u001b[0;31mIOError\u001b[0m: [Errno 2] No such file or directory: 'words.txt'"
       ]
      }
     ],
     "prompt_number": 10
    },
    {
     "cell_type": "code",
     "collapsed": false,
     "input": [
      "import urllib.request",
      " ",
      "def check(zip_code):",
      "        if zip_code == 'done':",
      "                return break",
      " ",
      "        if len(zip_code) != 5:",
      "                print('\\nThe zip code must have five digits!')",
      "                return continue",
      " ",
      "def get_html(zip_code):",
      "        gibberish = urllib.request.urlopen('http://www.uszip.com/zip/' + zip_code)",
      "        less_gib = gibberish.read().decode('utf-8')",
      "        return less_gib",
      " ",
      "def extract_truth(code, key, delimiter):",
      "        pos = code.find(key) + len(key)",
      "        nearly_true = code[pos:pos+40]",
      "        truth = nearly_true.split(delimiter)[0]",
      "        return truth",
      " ",
      "while True:",
      "        zip_code = input('Please type a zip code (5 digits) or \"done\" if want to stop:\\n')",
      " ",
      "        check(zip_code)",
      " ",
      "        code = get_html(zip_code)",
      " ",
      "        invalid_key = '(0 results)'",
      "        if invalid_key in code:",
      "                print('\\nNot a valid zip code.')",
      "                continue",
      " ",
      "        name_key = 'zip code of <strong>'",
      "        name_del = '<'",
      "        name = extract_truth(code, name_key, name_del)",
      " ",
      "        pop_key = 'Population:</b></td><td>'",
      "        pop_del = ' <'",
      "        name = extract_truth(code, pop_key, pop_del)",
      " ",
      "        if not 1 < len(pop) < 9:",
      "                pop = 'not available'",
      " ",
      "        print('\\n' + name)",
      "        print('Population:', pop, '\\n')"
     ],
     "language": "python",
     "outputs": [
      {
       "ename": "SyntaxError",
       "evalue": "invalid syntax (<ipython-input-11-2c62ef8d0984>, line 5)",
       "output_type": "pyerr",
       "traceback": [
        "\u001b[0;36m  File \u001b[0;32m\"<ipython-input-11-2c62ef8d0984>\"\u001b[0;36m, line \u001b[0;32m5\u001b[0m\n\u001b[0;31m    return break\u001b[0m\n\u001b[0m               ^\u001b[0m\n\u001b[0;31mSyntaxError\u001b[0m\u001b[0;31m:\u001b[0m invalid syntax\n"
       ]
      }
     ],
     "prompt_number": 11
    },
    {
     "cell_type": "code",
     "collapsed": false,
     "input": [
      "import math",
      " ",
      "class Point(object):",
      "        \"\"\"represents a point in 2-D space\"\"\"",
      " ",
      "def distance(p1, p2):",
      "        distance = math.sqrt((p2.x - p1.x)**2 + (p2.y - p1.y)**2)",
      "        return distance",
      " ",
      "p1 = Point()",
      "p2 = Point()",
      " ",
      "p1.x = 3",
      "p1.y = 2",
      "p2.x = 4",
      "p2.y = 3",
      " ",
      "print(distance(p1, p2))"
     ],
     "language": "python",
     "outputs": [
      {
       "output_type": "stream",
       "stream": "stdout",
       "text": [
        "1.41421356237"
       ]
      }
     ],
     "prompt_number": 12
    },
    {
     "cell_type": "code",
     "collapsed": true,
     "input": [],
     "language": "python",
     "outputs": []
    }
   ]
  }
 ]
}