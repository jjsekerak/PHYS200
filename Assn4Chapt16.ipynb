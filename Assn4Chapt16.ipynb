{
 "metadata": {
  "name": "Assn4Chapt16"
 },
 "nbformat": 3,
 "worksheets": [
  {
   "cells": [
    {
     "cell_type": "code",
     "collapsed": true,
     "input": [
      "def print_time(t):",
      "    print '%.2d:%.2d:%.2d' % (t.hour, t.minute, t.second)"
     ],
     "language": "python",
     "outputs": [],
     "prompt_number": 1
    },
    {
     "cell_type": "code",
     "collapsed": false,
     "input": [
      "print_time"
     ],
     "language": "python",
     "outputs": [
      {
       "output_type": "pyout",
       "prompt_number": 2,
       "text": [
        "<function __main__.print_time>"
       ]
      }
     ],
     "prompt_number": 2
    },
    {
     "cell_type": "code",
     "collapsed": false,
     "input": [
      "print_time(t)"
     ],
     "language": "python",
     "outputs": [
      {
       "ename": "NameError",
       "evalue": "name 't' is not defined",
       "output_type": "pyerr",
       "traceback": [
        "\u001b[0;31m---------------------------------------------------------------------------\u001b[0m\n\u001b[0;31mNameError\u001b[0m                                 Traceback (most recent call last)",
        "\u001b[0;32m/Users/johnsekerak/PHYS200/<ipython-input-3-929af22a5ac6>\u001b[0m in \u001b[0;36m<module>\u001b[0;34m()\u001b[0m\n\u001b[0;32m----> 1\u001b[0;31m \u001b[0mprint_time\u001b[0m\u001b[0;34m(\u001b[0m\u001b[0mt\u001b[0m\u001b[0;34m)\u001b[0m\u001b[0;34m\u001b[0m\u001b[0m\n\u001b[0m",
        "\u001b[0;31mNameError\u001b[0m: name 't' is not defined"
       ]
      }
     ],
     "prompt_number": 3
    },
    {
     "cell_type": "code",
     "collapsed": false,
     "input": [
      "print_time(3:33)"
     ],
     "language": "python",
     "outputs": [
      {
       "ename": "SyntaxError",
       "evalue": "invalid syntax (<ipython-input-4-1628f3de32a7>, line 1)",
       "output_type": "pyerr",
       "traceback": [
        "\u001b[0;36m  File \u001b[0;32m\"<ipython-input-4-1628f3de32a7>\"\u001b[0;36m, line \u001b[0;32m1\u001b[0m\n\u001b[0;31m    print_time(3:33)\u001b[0m\n\u001b[0m                ^\u001b[0m\n\u001b[0;31mSyntaxError\u001b[0m\u001b[0;31m:\u001b[0m invalid syntax\n"
       ]
      }
     ],
     "prompt_number": 4
    },
    {
     "cell_type": "code",
     "collapsed": true,
     "input": [
      "def is_after(t1, t2):",
      "    return (t1.hour, t1.minute, t1.second) > (t2.hour, t2.minute, t2.second)"
     ],
     "language": "python",
     "outputs": [],
     "prompt_number": 5
    },
    {
     "cell_type": "code",
     "collapsed": true,
     "input": [
      "def increment(time, seconds):",
      " ",
      "    n = seconds/60",
      "    time.second += seconds - 60.0*n",
      "    time.minute += n",
      " ",
      "    m = time.minute/60",
      "    time.minute -= m*60",
      "    time.hour += m"
     ],
     "language": "python",
     "outputs": [],
     "prompt_number": 6
    },
    {
     "cell_type": "code",
     "collapsed": true,
     "input": [
      "def increment(time, seconds):",
      "        time.second += seconds",
      "        time.minute += time.second//60",
      "        time.hour += time.minute//60",
      " ",
      "        time.second %= 60",
      "        time.minute %= 60",
      "        time.hour %= 24"
     ],
     "language": "python",
     "outputs": [],
     "prompt_number": 7
    },
    {
     "cell_type": "code",
     "collapsed": true,
     "input": [
      "from copy import deepcopy"
     ],
     "language": "python",
     "outputs": [],
     "prompt_number": 8
    },
    {
     "cell_type": "code",
     "collapsed": true,
     "input": [
      "def increment(time, seconds):",
      "        r = deepcopy(time)",
      " ",
      "        r.second += seconds",
      "        r.minute += r.second//60",
      "        r.hour += r.minute//60",
      " ",
      "        r.second %= 60",
      "        r.minute %= 60",
      "        r.hour %= 24",
      " ",
      "        return r"
     ],
     "language": "python",
     "outputs": [],
     "prompt_number": 9
    },
    {
     "cell_type": "code",
     "collapsed": false,
     "input": [
      "class Time(object):",
      "    \"\"\"represents the time of day.",
      "        attributes: hour, minute, second\"\"\"",
      " ",
      "time = Time()",
      "time.hour = 11",
      "time.minute = 59",
      "time.second = 30",
      " ",
      "def time_to_int(time):",
      "    minutes = time.hour * 60 + time.minute",
      "    seconds = minutes * 60 + time.second",
      "    return seconds",
      " ",
      "def int_to_time(seconds):",
      "    time = Time()",
      "    minutes, time.second = divmod(seconds, 60)",
      "    time.hour, time.minute = divmod(minutes, 60)",
      "    return time",
      " ",
      "def increment(time, addtime):",
      "    seconds = time_to_int(time)",
      "    return int_to_time(seconds + addtime)",
      " ",
      "def print_time (x):",
      "    print 'The time is %.2d : %.2d : %.2d' % (x.hour, x.minute, x.second)",
      "print_time (time)",
      " ",
      "newtime = increment (time, 70)",
      " ",
      "print_time (newtime)"
     ],
     "language": "python",
     "outputs": [
      {
       "output_type": "stream",
       "stream": "stdout",
       "text": [
        "The time is 11 : 59 : 30",
        "The time is 12 : 00 : 40"
       ]
      }
     ],
     "prompt_number": 10
    },
    {
     "cell_type": "code",
     "collapsed": true,
     "input": [
      "def time_to_int(time):",
      "        minutes = time.hour * 60 + time.minute",
      "        seconds = minutes * 60 + time.second",
      "        return seconds",
      " ",
      "def int_to_time(seconds):",
      "        time = Time()",
      "        minutes, time.second = divmod(seconds, 60)",
      "        time.hour, time.minute = divmod(minutes, 60)",
      "        return time",
      " ",
      "def mul_time(time, factor):",
      "        seconds = time_to_int(time)",
      "        seconds *= factor",
      "        seconds = int(seconds)",
      "        return int_to_time(seconds)",
      " ",
      "def average_pace(time, distance):",
      "        return mul_time(time, 1/distance)"
     ],
     "language": "python",
     "outputs": [],
     "prompt_number": 11
    },
    {
     "cell_type": "code",
     "collapsed": true,
     "input": [],
     "language": "python",
     "outputs": []
    }
   ]
  }
 ]
}